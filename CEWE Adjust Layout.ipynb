{
 "cells": [
  {
   "cell_type": "code",
   "execution_count": 87,
   "metadata": {},
   "outputs": [],
   "source": [
    "class Rect:\n",
    "    def __init__(self, top, left, height, width):\n",
    "        self.top = top\n",
    "        self.left = left\n",
    "        self.height = height\n",
    "        self.width = width\n",
    "\n",
    "        self.bottom = top + height\n",
    "        self.right = left + width\n",
    "\n",
    "    def __str__(self):\n",
    "        return \"(\" + str(self.top) + \", \" + str(self.left) + \", \" + str(self.bottom) + \", \" + str(self.right) + \")\"\n",
    "\n",
    "    def __repr__(self):\n",
    "        return self.__str__()\n"
   ]
  },
  {
   "cell_type": "code",
   "execution_count": 88,
   "metadata": {},
   "outputs": [],
   "source": [
    "def getDBAlbumXMLConfig(mcfxFile):\n",
    "    import sqlite3\n",
    "\n",
    "    con = sqlite3.connect(mcfxFile)\n",
    "    cur = con.cursor()\n",
    "    res = cur.execute(\"SELECT Data FROM Files WHERE Filename='data.mcf'\")\n",
    "\n",
    "    xmlData = res.fetchone()\n",
    "\n",
    "    print('Successfully read XML data from', mcfxFile)\n",
    "    cur.close()\n",
    "    con.close()\n",
    "    \n",
    "    \n",
    "    # with open('data.mcf.xml', \"wb\") as f:\n",
    "    #     f.write(xmlData[0])\n",
    "    \n",
    "    xmlString = xmlData[0].decode('UTF8')\n",
    "    xmlString = xmlString[:xmlString.find('</fotobook>')+11]\n",
    "\n",
    "    return xmlString"
   ]
  },
  {
   "cell_type": "code",
   "execution_count": 89,
   "metadata": {},
   "outputs": [],
   "source": [
    "def getPagesWithImages(xmlString):\n",
    "        \n",
    "    import xml.etree.ElementTree as et\n",
    "    tree = et.fromstring(xmlString)\n",
    "    parentMap = {c: p for p in tree.iter() for c in p}\n",
    "\n",
    "    images = {}\n",
    "\n",
    "    for areaElement in tree.iter('area'):\n",
    "        if areaElement.get('areatype') == 'imagearea':\n",
    "            parentElement = parentMap[areaElement]\n",
    "            pageNumber = int(parentElement.get('pagenr'))\n",
    "\n",
    "            # <position height=\"3160\" left=\"-100\" rotation=\"0\" top=\"-100\" width=\"6309.18\" zposition=\"100\"/>\n",
    "            positionElement = areaElement.find('position')\n",
    "            h = float(positionElement.get('height'))\n",
    "            w = float(positionElement.get('width'))\n",
    "            l = float(positionElement.get('left'))\n",
    "            t = float(positionElement.get('top'))\n",
    "            rect = Rect(t, l, h, w)\n",
    "\n",
    "            # <image filename=\"safecontainer:/i6bs7459_1_img_8369_stitch.jpg\" useABK=\"0\">\n",
    "            imageElement = areaElement.find('image')\n",
    "            filename = imageElement.get('filename')[15:]\n",
    "\n",
    "            if not pageNumber in images:\n",
    "                images[pageNumber] = []\n",
    "\n",
    "            # images[pageNumber].append((filename, rect))\n",
    "            images[pageNumber].append(rect)\n",
    "\n",
    "    return images"
   ]
  },
  {
   "cell_type": "code",
   "execution_count": 104,
   "metadata": {},
   "outputs": [],
   "source": [
    "def interfereHorizontally(i1, i2):\n",
    "    if (i1.left >= i2.left and i1.left <= i2.right) or (i1.right >= i2.left and i1.right <= i2.right) or (i1.left < i2.left and i1.right > i2.right):\n",
    "        return True\n",
    "    return False\n",
    "\n",
    "def interfereVertically(i1, i2):\n",
    "    if (i1.top >= i2.top and i1.top <= i2.bottom) or (i1.bottom >= i2.top and i1.bottom <= i2.bottom) or (i1.top < i2.top and i1.bottom > i2.bottom):\n",
    "        return True\n",
    "    return False\n",
    "\n",
    "def getDesiredRightSides(i1, i2, margin):\n",
    "    resultingConstraints = []\n",
    "\n",
    "    if i1.right <= i2.left:\n",
    "        if interfereVertically(i1, i2):\n",
    "            mid = i1.right + (i2.left - i1.right) / 2\n",
    "            resultingConstraints.append((i1, 'R', mid - margin/2))\n",
    "            resultingConstraints.append((i2, 'L', mid + margin/2))\n",
    "            # return (mid - margin/2, mid + margin/ 2)\n",
    "    elif i1.left >= i2.right:\n",
    "        if interfereVertically(i1, i2):\n",
    "            mid = i2.right + (i1.left - i2.right) / 2\n",
    "            resultingConstraints.append((i1, 'L', mid + margin/2))\n",
    "            resultingConstraints.append((i2, 'R', mid - margin/2))\n",
    "            # return (mid + margin/2, mid - margin/ 2)\n",
    "\n",
    "    if i1.bottom <= i2.top:\n",
    "        if interfereHorizontally(i1, i2):\n",
    "            mid = i1.bottom + (i2.top - i1.bottom) / 2\n",
    "            resultingConstraints.append((i1, 'B', mid - margin/2))\n",
    "            resultingConstraints.append((i2, 'T', mid + margin/2))\n",
    "    elif i1.top >= i2.bottom:\n",
    "        if interfereHorizontally(i1, i2):\n",
    "            mid = i2.bottom + (i1.top - i2.bottom) / 2\n",
    "            resultingConstraints.append((i1, 'T', mid + margin/2))\n",
    "            resultingConstraints.append((i2, 'B', mid - margin/2))\n",
    "\n",
    "    return resultingConstraints"
   ]
  },
  {
   "cell_type": "code",
   "execution_count": 119,
   "metadata": {},
   "outputs": [
    {
     "name": "stdout",
     "output_type": "stream",
     "text": [
      "Successfully read XML data from test.mcfx\n",
      "[(1010.0, 1425.0, 1650.0, 2150.0), (50.0, 1425.0, 964.063, 2150.0), (50.0, 50.0, 1650.0, 1375.0), (1700.01, 50.0, 2850.0, 1800.0), (50.0, 3650.0, 1400.0, 5750.0), (1450.0, 3650.0, 2850.0, 5750.0), (1700.0, 1850.0, 2850.0, 3600.0), (50.0, 2200.0, 1650.0, 3600.0)]\n"
     ]
    }
   ],
   "source": [
    "xmlString = getDBAlbumXMLConfig('test.mcfx')\n",
    "\n",
    "pages = getPagesWithImages(xmlString)\n",
    "\n",
    "pageHeight = 2900 #2960\n",
    "pageWidth = 5800 #6010\n",
    "newMargin = 100\n",
    "\n",
    "for pageNumber in [2]: #pages:\n",
    "    images = pages[pageNumber]\n",
    "    print(images)\n",
    "\n",
    "    # newCoordsRight = {i:i.right for i in images}\n",
    "    allConstraints = []\n",
    "\n",
    "    for i1 in images:\n",
    "        for i2 in images:\n",
    "            resultingConstraints = getDesiredRightSides(i1, i2, newMargin)\n",
    "            allConstraints = allConstraints + resultingConstraints\n",
    "            # allConstraints.append(resultingConstraints)\n",
    "            # for c in resultingConstraints:\n",
    "\n",
    "            # if r1 > newCoordsRight[i1]: newCoordsRight[i1] = r1\n",
    "            # if r2 > newCoordsRight[i2]: newCoordsRight[i2] = r2\n",
    "\n",
    "    newCoordinates = {i:{'T':i.top, 'B':i.bottom, 'L':i.left, 'R':i.right} for i in images}\n",
    "\n",
    "    for c in allConstraints:\n",
    "        oldVal = newCoordinates[c[0]][c[1]]\n",
    "        if c[1]=='T' or c[1]=='L':\n",
    "            if c[2] > oldVal:\n",
    "                newCoordinates[c[0]][c[1]] = c[2]\n",
    "        else:\n",
    "            if c[2] < oldVal:\n",
    "                newCoordinates[c[0]][c[1]] = c[2]\n",
    "\n",
    "    newCoordinates"
   ]
  },
  {
   "cell_type": "code",
   "execution_count": 76,
   "metadata": {},
   "outputs": [
    {
     "data": {
      "image/png": "[encoded data removed]",
      "text/plain": [
       "<Figure size 720x480 with 1 Axes>"
      ]
     },
     "metadata": {
      "needs_background": "light"
     },
     "output_type": "display_data"
    }
   ],
   "source": [
    "import matplotlib.pyplot as plt\n",
    "from matplotlib.patches import Rectangle\n",
    "plt.rcParams['figure.dpi'] = 120\n",
    "\n",
    "fig, ax = plt.subplots()\n",
    "ax.plot([0, 0],[10, 0])\n",
    "\n",
    "for i in pages[2]:\n",
    "    ax.add_patch(Rectangle((i.left, i.top), i.width, i.height))\n",
    "\n",
    "plt.show()"
   ]
  },
  {
   "cell_type": "code",
   "execution_count": null,
   "metadata": {},
   "outputs": [],
   "source": []
  }
 ],
 "metadata": {
  "kernelspec": {
   "display_name": "knime",
   "language": "python",
   "name": "python3"
  },
  "language_info": {
   "codemirror_mode": {
    "name": "ipython",
    "version": 3
   },
   "file_extension": ".py",
   "mimetype": "text/x-python",
   "name": "python",
   "nbconvert_exporter": "python",
   "pygments_lexer": "ipython3",
   "version": "3.8.12"
  },
  "orig_nbformat": 4
 },
 "nbformat": 4,
 "nbformat_minor": 2
}
