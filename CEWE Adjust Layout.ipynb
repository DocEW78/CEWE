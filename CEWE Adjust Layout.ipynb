{
 "cells": [
  {
   "cell_type": "code",
   "execution_count": 157,
   "metadata": {},
   "outputs": [],
   "source": [
    "class Rect:\n",
    "    def __init__(self, top, left, height, width):\n",
    "        self.top = top\n",
    "        self.left = left\n",
    "        self.height = height\n",
    "        self.width = width\n",
    "\n",
    "        self.bottom = top + height\n",
    "        self.right = left + width\n",
    "\n",
    "    def __str__(self):\n",
    "        return \"TLBR=(\" + str(self.top) + \", \" + str(self.left) + \", \" + str(self.bottom) + \", \" + str(self.right) + \")\" \\\n",
    "         + \"    TLHW=(\" + str(self.top) + \", \" + str(self.left) + \", \" + str(self.height) + \", \" + str(self.width) + \")\"\n",
    "\n",
    "    def __repr__(self):\n",
    "        return self.__str__()\n"
   ]
  },
  {
   "cell_type": "code",
   "execution_count": 126,
   "metadata": {},
   "outputs": [],
   "source": [
    "def getDBAlbumXMLConfig(mcfxFile):\n",
    "    import sqlite3\n",
    "\n",
    "    con = sqlite3.connect(mcfxFile)\n",
    "    cur = con.cursor()\n",
    "    res = cur.execute(\"SELECT Data FROM Files WHERE Filename='data.mcf'\")\n",
    "\n",
    "    xmlData = res.fetchone()\n",
    "\n",
    "    print('Successfully read XML data from', mcfxFile)\n",
    "    cur.close()\n",
    "    con.close()  \n",
    "    \n",
    "    # with open('data.mcf.xml', \"wb\") as f:\n",
    "    #     f.write(xmlData[0])\n",
    "\n",
    "    if isinstance(xmlData[0], str):\n",
    "        xmlString = xmlData[0]\n",
    "    else:\n",
    "        xmlString = xmlData[0].decode('UTF8')\n",
    "\n",
    "    xmlString = xmlString[:xmlString.find('</fotobook>')+11]\n",
    "\n",
    "    return xmlString"
   ]
  },
  {
   "cell_type": "code",
   "execution_count": 120,
   "metadata": {},
   "outputs": [],
   "source": [
    "def getPagesWithImages(tree):\n",
    "    parentMap = {c: p for p in tree.iter() for c in p}\n",
    "\n",
    "    images = {}\n",
    "    imageToPositionElement = {}\n",
    "\n",
    "    for areaElement in tree.iter('area'):\n",
    "        if areaElement.get('areatype') == 'imagearea':\n",
    "            parentElement = parentMap[areaElement]\n",
    "            pageNumber = int(parentElement.get('pagenr'))\n",
    "\n",
    "            # <position height=\"3160\" left=\"-100\" rotation=\"0\" top=\"-100\" width=\"6309.18\" zposition=\"100\"/>\n",
    "            positionElement = areaElement.find('position')\n",
    "            h = float(positionElement.get('height'))\n",
    "            w = float(positionElement.get('width'))\n",
    "            l = float(positionElement.get('left'))\n",
    "            t = float(positionElement.get('top'))\n",
    "            rect = Rect(t, l, h, w)\n",
    "\n",
    "            if not pageNumber in images:\n",
    "                images[pageNumber] = []\n",
    "\n",
    "            images[pageNumber].append(rect)\n",
    "            imageToPositionElement[rect] = positionElement\n",
    "\n",
    "    return (images, imageToPositionElement)"
   ]
  },
  {
   "cell_type": "code",
   "execution_count": 163,
   "metadata": {},
   "outputs": [],
   "source": [
    "def interfereHorizontally(i1, i2):\n",
    "    if (i1.left >= i2.left and i1.left <= i2.right) or (i1.right >= i2.left and i1.right <= i2.right) or (i1.left < i2.left and i1.right > i2.right):\n",
    "        return True\n",
    "    return False\n",
    "\n",
    "def interfereVertically(i1, i2):\n",
    "    if (i1.top >= i2.top and i1.top <= i2.bottom) or (i1.bottom >= i2.top and i1.bottom <= i2.bottom) or (i1.top < i2.top and i1.bottom > i2.bottom):\n",
    "        return True\n",
    "    return False\n",
    "\n",
    "def getBorderConstraints(i, pageHeight, pageWidth, margin):\n",
    "    resultingConstraints = []\n",
    "    \n",
    "    resultingConstraints.append((i, 'T', margin))\n",
    "    resultingConstraints.append((i, 'L', margin))\n",
    "    resultingConstraints.append((i, 'H', pageHeight - margin))\n",
    "    resultingConstraints.append((i, 'W', pageWidth - margin))\n",
    "\n",
    "    return resultingConstraints\n",
    "\n",
    "def getResultingConstraints(i1, i2, margin):\n",
    "    resultingConstraints = []\n",
    "\n",
    "    if i1.right <= i2.left:\n",
    "        if interfereVertically(i1, i2):\n",
    "            mid = i1.right + (i2.left - i1.right) / 2\n",
    "            resultingConstraints.append((i1, 'W', i1.width + (mid - margin/2 - i1.right) ))\n",
    "            resultingConstraints.append((i2, 'L', mid + margin/2))\n",
    "    elif i1.left >= i2.right:\n",
    "        if interfereVertically(i1, i2):\n",
    "            mid = i2.right + (i1.left - i2.right) / 2\n",
    "            resultingConstraints.append((i1, 'L', mid + margin/2))\n",
    "            resultingConstraints.append((i2, 'W', i2.width + (mid - margin/2 - i2.right) ))\n",
    "\n",
    "    if i1.bottom <= i2.top:\n",
    "        if interfereHorizontally(i1, i2):\n",
    "            mid = i1.bottom + (i2.top - i1.bottom) / 2\n",
    "            resultingConstraints.append((i1, 'H', i1.height + (mid - margin/2 - i1.bottom) ))\n",
    "            resultingConstraints.append((i2, 'T', mid + margin/2))\n",
    "    elif i1.top >= i2.bottom:\n",
    "        if interfereHorizontally(i1, i2):\n",
    "            mid = i2.bottom + (i1.top - i2.bottom) / 2\n",
    "            resultingConstraints.append((i1, 'T', mid + margin/2))\n",
    "            resultingConstraints.append((i2, 'H', i2.height + (mid - margin/2 - i2.bottom) ))\n",
    "\n",
    "    return resultingConstraints"
   ]
  },
  {
   "cell_type": "code",
   "execution_count": 164,
   "metadata": {},
   "outputs": [],
   "source": [
    "# def getBorderRectangles(pageHeight, pageWidth):\n",
    "#     return [Rect(0, -10, pageHeight, 10), # left border\n",
    "#             Rect(-10, 0, 10, pageWidth), # top border\n",
    "#             Rect(0, pageWidth, pageHeight, 10),  # right border\n",
    "#             Rect(pageHeight, 0, 10, pageWidth)] # bottom border\n",
    "\n",
    "def getNewCoordinates(pages, imageToPositionElement, pageHeight, pageWidth, newMargin):\n",
    "    import itertools\n",
    "\n",
    "    newCoordinates = {}\n",
    "\n",
    "    for pageNumber in pages:\n",
    "        images = pages[pageNumber]\n",
    "        # borderRectangles = getBorderRectangles(pageHeight, pageWidth)\n",
    "        # imageToPositionElement.update( {r : None for r in borderRectangles} )\n",
    "        # images = images + borderRectangles\n",
    "\n",
    "        allConstraints = []\n",
    "        for i in images:\n",
    "            allConstraints.extend(getBorderConstraints(i, pageHeight, pageWidth, newMargin))\n",
    "\n",
    "        if pageNumber == 12:\n",
    "            print()\n",
    "    \n",
    "        # for i1 in images:\n",
    "        #     for i2 in images:\n",
    "        for imagePair in itertools.combinations(images, 2):\n",
    "            resultingConstraints = getResultingConstraints(imagePair[0], imagePair[1], newMargin)\n",
    "            allConstraints = allConstraints + resultingConstraints\n",
    "\n",
    "        newCoordinates[pageNumber] = {imageToPositionElement[i] : {'T':i.top, 'L':i.left, 'H':i.height, 'W':i.width} for i in images}\n",
    "\n",
    "        for c in allConstraints:\n",
    "            positionElement = imageToPositionElement[c[0]]\n",
    "\n",
    "            if not positionElement is None:\n",
    "                oldVal = newCoordinates[pageNumber][positionElement][c[1]]\n",
    "\n",
    "                if c[1]=='T' or c[1]=='L':\n",
    "                    if c[2] > oldVal:\n",
    "                        newCoordinates[pageNumber][positionElement][c[1]] = c[2]\n",
    "                else:\n",
    "                    if c[2] < oldVal:\n",
    "                        newCoordinates[pageNumber][positionElement][c[1]] = c[2]\n",
    "    \n",
    "    return newCoordinates"
   ]
  },
  {
   "cell_type": "code",
   "execution_count": 123,
   "metadata": {},
   "outputs": [],
   "source": [
    "def adjustCoordinates(tree, newCoordinates):\n",
    "    for pageNumber in newCoordinates:\n",
    "        for (posEl, constraints) in newCoordinates[pageNumber].items():\n",
    "            if not posEl is None:\n",
    "                posEl.set('top', str(constraints['T']))\n",
    "                posEl.set('left', str(constraints['L']))\n",
    "                posEl.set('height', str(constraints['H']))\n",
    "                posEl.set('width', str(constraints['W']))\n",
    "            \n",
    "    return None"
   ]
  },
  {
   "cell_type": "code",
   "execution_count": 167,
   "metadata": {},
   "outputs": [
    {
     "name": "stdout",
     "output_type": "stream",
     "text": [
      "Successfully read XML data from test.mcfx\n"
     ]
    },
    {
     "ename": "KeyError",
     "evalue": "(TLBR=(-100.0, -100.0, 3060.0, 6209.18)    TLHW=(-100.0, -100.0, 3160.0, 6309.18), 'T', 200)",
     "output_type": "error",
     "traceback": [
      "\u001b[1;31m---------------------------------------------------------------------------\u001b[0m",
      "\u001b[1;31mKeyError\u001b[0m                                  Traceback (most recent call last)",
      "\u001b[1;32md:\\Programmierung\\CEWE\\CEWE Adjust Layout.ipynb Cell 7\u001b[0m line \u001b[0;36m<module>\u001b[1;34m\u001b[0m\n\u001b[0;32m      <a href='vscode-notebook-cell:/d%3A/Programmierung/CEWE/CEWE%20Adjust%20Layout.ipynb#W5sZmlsZQ%3D%3D?line=8'>9</a>\u001b[0m pageWidth \u001b[39m=\u001b[39m \u001b[39m5800\u001b[39m \u001b[39m#6010\u001b[39;00m\n\u001b[0;32m     <a href='vscode-notebook-cell:/d%3A/Programmierung/CEWE/CEWE%20Adjust%20Layout.ipynb#W5sZmlsZQ%3D%3D?line=9'>10</a>\u001b[0m newMargin \u001b[39m=\u001b[39m \u001b[39m200\u001b[39m\n\u001b[1;32m---> <a href='vscode-notebook-cell:/d%3A/Programmierung/CEWE/CEWE%20Adjust%20Layout.ipynb#W5sZmlsZQ%3D%3D?line=11'>12</a>\u001b[0m newCoordinates \u001b[39m=\u001b[39m getNewCoordinates(pages, imageToPositionElement, pageHeight, pageWidth, newMargin)\n\u001b[0;32m     <a href='vscode-notebook-cell:/d%3A/Programmierung/CEWE/CEWE%20Adjust%20Layout.ipynb#W5sZmlsZQ%3D%3D?line=13'>14</a>\u001b[0m adjustCoordinates(root, newCoordinates)\n\u001b[0;32m     <a href='vscode-notebook-cell:/d%3A/Programmierung/CEWE/CEWE%20Adjust%20Layout.ipynb#W5sZmlsZQ%3D%3D?line=14'>15</a>\u001b[0m newXML \u001b[39m=\u001b[39m et\u001b[39m.\u001b[39mtostring(root)\n",
      "\u001b[1;32md:\\Programmierung\\CEWE\\CEWE Adjust Layout.ipynb Cell 7\u001b[0m line \u001b[0;36mgetNewCoordinates\u001b[1;34m(pages, imageToPositionElement, pageHeight, pageWidth, newMargin)\u001b[0m\n\u001b[0;32m     <a href='vscode-notebook-cell:/d%3A/Programmierung/CEWE/CEWE%20Adjust%20Layout.ipynb#W5sZmlsZQ%3D%3D?line=28'>29</a>\u001b[0m newCoordinates[pageNumber] \u001b[39m=\u001b[39m {imageToPositionElement[i] : {\u001b[39m'\u001b[39m\u001b[39mT\u001b[39m\u001b[39m'\u001b[39m:i\u001b[39m.\u001b[39mtop, \u001b[39m'\u001b[39m\u001b[39mL\u001b[39m\u001b[39m'\u001b[39m:i\u001b[39m.\u001b[39mleft, \u001b[39m'\u001b[39m\u001b[39mH\u001b[39m\u001b[39m'\u001b[39m:i\u001b[39m.\u001b[39mheight, \u001b[39m'\u001b[39m\u001b[39mW\u001b[39m\u001b[39m'\u001b[39m:i\u001b[39m.\u001b[39mwidth} \u001b[39mfor\u001b[39;00m i \u001b[39min\u001b[39;00m images}\n\u001b[0;32m     <a href='vscode-notebook-cell:/d%3A/Programmierung/CEWE/CEWE%20Adjust%20Layout.ipynb#W5sZmlsZQ%3D%3D?line=30'>31</a>\u001b[0m \u001b[39mfor\u001b[39;00m c \u001b[39min\u001b[39;00m allConstraints:\n\u001b[1;32m---> <a href='vscode-notebook-cell:/d%3A/Programmierung/CEWE/CEWE%20Adjust%20Layout.ipynb#W5sZmlsZQ%3D%3D?line=31'>32</a>\u001b[0m     positionElement \u001b[39m=\u001b[39m imageToPositionElement[c[\u001b[39m0\u001b[39;49m]]\n\u001b[0;32m     <a href='vscode-notebook-cell:/d%3A/Programmierung/CEWE/CEWE%20Adjust%20Layout.ipynb#W5sZmlsZQ%3D%3D?line=33'>34</a>\u001b[0m     \u001b[39mif\u001b[39;00m \u001b[39mnot\u001b[39;00m positionElement \u001b[39mis\u001b[39;00m \u001b[39mNone\u001b[39;00m:\n\u001b[0;32m     <a href='vscode-notebook-cell:/d%3A/Programmierung/CEWE/CEWE%20Adjust%20Layout.ipynb#W5sZmlsZQ%3D%3D?line=34'>35</a>\u001b[0m         oldVal \u001b[39m=\u001b[39m newCoordinates[pageNumber][positionElement][c[\u001b[39m1\u001b[39m]]\n",
      "\u001b[1;31mKeyError\u001b[0m: (TLBR=(-100.0, -100.0, 3060.0, 6209.18)    TLHW=(-100.0, -100.0, 3160.0, 6309.18), 'T', 200)"
     ]
    }
   ],
   "source": [
    "import xml.etree.ElementTree as et\n",
    "\n",
    "xmlString = getDBAlbumXMLConfig('test.mcfx')\n",
    "root = et.fromstring(xmlString)\n",
    "\n",
    "(pages, imageToPositionElement) = getPagesWithImages(root)\n",
    "\n",
    "pageHeight = 2900 #2960\n",
    "pageWidth = 5800 #6010\n",
    "newMargin = 200\n",
    "\n",
    "newCoordinates = getNewCoordinates(pages, imageToPositionElement, pageHeight, pageWidth, newMargin)\n",
    "\n",
    "adjustCoordinates(root, newCoordinates)\n",
    "newXML = et.tostring(root)\n",
    "\n",
    "et.ElementTree(root).write(open('data.mcf.new.xml', 'wb'), encoding='UTF-8', xml_declaration=True)\n"
   ]
  },
  {
   "cell_type": "code",
   "execution_count": 152,
   "metadata": {},
   "outputs": [
    {
     "data": {
      "image/png": "[encoded data removed]",
      "text/plain": [
       "<Figure size 900x600 with 1 Axes>"
      ]
     },
     "metadata": {
      "needs_background": "light"
     },
     "output_type": "display_data"
    }
   ],
   "source": [
    "(pages, imageToPositionElement) = getPagesWithImages(root)\n",
    "\n",
    "import matplotlib.pyplot as plt\n",
    "from matplotlib.patches import Rectangle\n",
    "plt.rcParams['figure.dpi'] = 150\n",
    "\n",
    "fig, ax = plt.subplots()\n",
    "ax.plot([0, 0, pageWidth, pageWidth, 0],[pageHeight, 0, 0, pageHeight, pageHeight], 'k')\n",
    "\n",
    "for i in pages[12]:\n",
    "    ax.add_patch(Rectangle((i.left, i.top), i.width, i.height))\n",
    "\n",
    "plt.show()"
   ]
  },
  {
   "cell_type": "code",
   "execution_count": null,
   "metadata": {},
   "outputs": [],
   "source": []
  }
 ],
 "metadata": {
  "kernelspec": {
   "display_name": "knime",
   "language": "python",
   "name": "python3"
  },
  "language_info": {
   "codemirror_mode": {
    "name": "ipython",
    "version": 3
   },
   "file_extension": ".py",
   "mimetype": "text/x-python",
   "name": "python",
   "nbconvert_exporter": "python",
   "pygments_lexer": "ipython3",
   "version": "3.8.12"
  },
  "orig_nbformat": 4
 },
 "nbformat": 4,
 "nbformat_minor": 2
}
